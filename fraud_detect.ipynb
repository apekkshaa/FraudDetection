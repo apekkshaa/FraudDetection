{
  "cells": [
    {
      "cell_type": "code",
      "execution_count": null,
      "metadata": {
        "colab": {
          "base_uri": "https://localhost:8080/"
        },
        "id": "3PLGGvY8FqwY",
        "outputId": "d9d7c73a-9167-4ae6-8504-9474f2848a89"
      },
      "outputs": [
        {
          "name": "stdout",
          "output_type": "stream",
          "text": [
            "Requirement already satisfied: xgboost in /usr/local/lib/python3.11/dist-packages (2.1.4)\n",
            "Requirement already satisfied: scikit-learn in /usr/local/lib/python3.11/dist-packages (1.6.1)\n",
            "Requirement already satisfied: pandas in /usr/local/lib/python3.11/dist-packages (2.2.2)\n",
            "Requirement already satisfied: numpy in /usr/local/lib/python3.11/dist-packages (2.0.2)\n",
            "Requirement already satisfied: nvidia-nccl-cu12 in /usr/local/lib/python3.11/dist-packages (from xgboost) (2.21.5)\n",
            "Requirement already satisfied: scipy in /usr/local/lib/python3.11/dist-packages (from xgboost) (1.14.1)\n",
            "Requirement already satisfied: joblib>=1.2.0 in /usr/local/lib/python3.11/dist-packages (from scikit-learn) (1.4.2)\n",
            "Requirement already satisfied: threadpoolctl>=3.1.0 in /usr/local/lib/python3.11/dist-packages (from scikit-learn) (3.6.0)\n",
            "Requirement already satisfied: python-dateutil>=2.8.2 in /usr/local/lib/python3.11/dist-packages (from pandas) (2.8.2)\n",
            "Requirement already satisfied: pytz>=2020.1 in /usr/local/lib/python3.11/dist-packages (from pandas) (2025.1)\n",
            "Requirement already satisfied: tzdata>=2022.7 in /usr/local/lib/python3.11/dist-packages (from pandas) (2025.1)\n",
            "Requirement already satisfied: six>=1.5 in /usr/local/lib/python3.11/dist-packages (from python-dateutil>=2.8.2->pandas) (1.17.0)\n"
          ]
        }
      ],
      "source": [
        "!pip install xgboost scikit-learn pandas numpy\n"
      ]
    },
    {
      "cell_type": "code",
      "execution_count": null,
      "metadata": {
        "colab": {
          "base_uri": "https://localhost:8080/"
        },
        "id": "67DZGA0WHqVs",
        "outputId": "7771b295-70b4-42a2-fe7f-31c7fceb3984"
      },
      "outputs": [
        {
          "name": "stdout",
          "output_type": "stream",
          "text": [
            "Dataset Columns: ['transaction_amount', 'transaction_date', 'transaction_channel', 'is_fraud', 'transaction_payment_mode_anonymous', 'payment_gateway_bank_anonymous', 'payer_browser_anonymous', 'payer_email_anonymous', 'payee_ip_anonymous', 'payer_mobile_anonymous', 'transaction_id_anonymous', 'payee_id_anonymous']\n"
          ]
        }
      ],
      "source": [
        "print(\"Dataset Columns:\", df.columns.tolist())"
      ]
    },
    {
      "cell_type": "code",
      "execution_count": null,
      "metadata": {
        "colab": {
          "base_uri": "https://localhost:8080/"
        },
        "id": "vvZ-Gh7xHEdw",
        "outputId": "23b40340-a790-4206-b348-70657f052a2e"
      },
      "outputs": [
        {
          "name": "stdout",
          "output_type": "stream",
          "text": [
            "Columns in dataset: Index(['transaction_amount', 'transaction_date', 'transaction_channel',\n",
            "       'is_fraud', 'transaction_payment_mode_anonymous',\n",
            "       'payment_gateway_bank_anonymous', 'payer_browser_anonymous',\n",
            "       'payer_email_anonymous', 'payee_ip_anonymous', 'payer_mobile_anonymous',\n",
            "       'transaction_id_anonymous', 'payee_id_anonymous'],\n",
            "      dtype='object')\n",
            "Data Preprocessing Completed ✅\n"
          ]
        }
      ],
      "source": [
        "import pandas as pd\n",
        "import numpy as np\n",
        "import xgboost as xgb\n",
        "from sklearn.model_selection import train_test_split\n",
        "from sklearn.preprocessing import LabelEncoder\n",
        "from sklearn.metrics import accuracy_score, classification_report\n",
        "\n",
        "# Load dataset\n",
        "df = pd.read_csv(\"transactions_train.csv\")  # Update with the actual file name\n",
        "\n",
        "# Check column names\n",
        "print(\"Columns in dataset:\", df.columns)\n",
        "\n",
        "# Fill missing values\n",
        "df.fillna(0, inplace=True)\n",
        "\n",
        "# Identify categorical columns and encode them\n",
        "categorical_cols = [\n",
        "    \"payment_gateway_bank_anonymous\",\n",
        "    \"payer_browser_anonymous\",\n",
        "    \"payer_email_anonymous\",\n",
        "    \"payee_ip_anonymous\",\n",
        "    \"payer_mobile_anonymous\",\n",
        "    \"transaction_id_anonymous\",\n",
        "    \"payee_id_anonymous\"\n",
        "]\n",
        "# Convert categorical columns to string type\n",
        "for col in categorical_cols:\n",
        "    df[col] = df[col].astype(str)  # Ensures all values are strings before encoding\n",
        "    le = LabelEncoder()\n",
        "    df[col] = le.fit_transform(df[col])\n",
        "    label_encoders[col] = le  # Store encoders for future use\n",
        "\n",
        "\n",
        "label_encoders = {}\n",
        "\n",
        "for col in categorical_cols:\n",
        "    le = LabelEncoder()\n",
        "    df[col] = le.fit_transform(df[col])\n",
        "    label_encoders[col] = le  # Store encoders for future use\n",
        "\n",
        "# **Make sure the target column exists**\n",
        "target_column = \"is_fraud\"  # Update if it's named differently in your dataset\n",
        "\n",
        "if target_column not in df.columns:\n",
        "    raise KeyError(f\"Target column '{target_column}' not found in dataset. Check the correct column name.\")\n",
        "\n",
        "# Separate features and target\n",
        "X = df.drop(columns=[target_column])  # Features\n",
        "y = df[target_column]  # Target variable (1 = Fraud, 0 = Not Fraud)\n",
        "\n",
        "# Split into training and testing sets\n",
        "X_train, X_test, y_train, y_test = train_test_split(X, y, test_size=0.2, random_state=42)\n",
        "\n",
        "print(\"Data Preprocessing Completed ✅\")\n"
      ]
    },
    {
      "cell_type": "code",
      "execution_count": null,
      "metadata": {
        "colab": {
          "base_uri": "https://localhost:8080/"
        },
        "id": "ShbrBx7aIIx2",
        "outputId": "62ad4ce1-c985-4403-a377-7a2a25f90c70"
      },
      "outputs": [
        {
          "name": "stdout",
          "output_type": "stream",
          "text": [
            "transaction_amount                    float64\n",
            "transaction_date                       object\n",
            "transaction_channel                    object\n",
            "transaction_payment_mode_anonymous      int64\n",
            "payment_gateway_bank_anonymous          int64\n",
            "payer_browser_anonymous                 int64\n",
            "payer_email_anonymous                   int64\n",
            "payee_ip_anonymous                      int64\n",
            "payer_mobile_anonymous                  int64\n",
            "transaction_id_anonymous                int64\n",
            "payee_id_anonymous                      int64\n",
            "dtype: object\n"
          ]
        }
      ],
      "source": [
        "# Convert 'transaction_date' to numerical (if it's a date column)\n",
        "if 'transaction_date' in df.columns:\n",
        "    df['transaction_date'] = pd.to_datetime(df['transaction_date'], errors='coerce')\n",
        "    df['transaction_date'] = df['transaction_date'].astype('int64') // 10**9  # Convert to UNIX timestamp\n",
        "\n",
        "# Identify object columns (categorical)\n",
        "object_cols = X_train.select_dtypes(include=['object']).columns\n",
        "\n",
        "# Apply Label Encoding to categorical columns\n",
        "for col in object_cols:\n",
        "    df[col] = df[col].astype(str)  # Ensure all values are strings\n",
        "    le = LabelEncoder()\n",
        "    df[col] = le.fit_transform(df[col])\n",
        "\n",
        "# Check again to confirm\n",
        "print(X_train.dtypes)  # Should now be int, float, or category only\n"
      ]
    },
    {
      "cell_type": "code",
      "execution_count": null,
      "metadata": {
        "colab": {
          "base_uri": "https://localhost:8080/"
        },
        "id": "w59ZaQ6ZIaVz",
        "outputId": "9f7bef76-8745-44b6-dce7-ed96be3a10cd"
      },
      "outputs": [
        {
          "name": "stdout",
          "output_type": "stream",
          "text": [
            "transaction_amount                    float64\n",
            "transaction_date                        int64\n",
            "transaction_channel                     int64\n",
            "is_fraud                                int64\n",
            "transaction_payment_mode_anonymous      int64\n",
            "payment_gateway_bank_anonymous          int64\n",
            "payer_browser_anonymous                 int64\n",
            "payer_email_anonymous                   int64\n",
            "payee_ip_anonymous                      int64\n",
            "payer_mobile_anonymous                  int64\n",
            "transaction_id_anonymous                int64\n",
            "payee_id_anonymous                      int64\n",
            "dtype: object\n"
          ]
        }
      ],
      "source": [
        "from sklearn.preprocessing import LabelEncoder\n",
        "\n",
        "# Convert 'transaction_date' to numerical (UNIX timestamp)\n",
        "df['transaction_date'] = pd.to_datetime(df['transaction_date'], errors='coerce')\n",
        "df['transaction_date'] = df['transaction_date'].astype('int64') // 10**9  # Convert to UNIX timestamp\n",
        "\n",
        "# Encode 'transaction_channel' (categorical)\n",
        "le = LabelEncoder()\n",
        "df['transaction_channel'] = le.fit_transform(df['transaction_channel'].astype(str))\n",
        "\n",
        "# Verify Data Types\n",
        "print(df.dtypes)  # Should be int or float only\n"
      ]
    },
    {
      "cell_type": "code",
      "execution_count": null,
      "metadata": {
        "colab": {
          "base_uri": "https://localhost:8080/"
        },
        "id": "WLF3ere8H6AB",
        "outputId": "d2316461-66a8-47d0-f997-72662ccbf26f"
      },
      "outputs": [
        {
          "name": "stderr",
          "output_type": "stream",
          "text": [
            "/usr/local/lib/python3.11/dist-packages/xgboost/core.py:158: UserWarning: [09:57:11] WARNING: /workspace/src/learner.cc:740: \n",
            "Parameters: { \"use_label_encoder\" } are not used.\n",
            "\n",
            "  warnings.warn(smsg, UserWarning)\n"
          ]
        },
        {
          "name": "stdout",
          "output_type": "stream",
          "text": [
            "✅ Model Accuracy: 0.9999\n",
            "              precision    recall  f1-score   support\n",
            "\n",
            "           0       1.00      1.00      1.00     34584\n",
            "           1       0.00      0.00      0.00         2\n",
            "\n",
            "    accuracy                           1.00     34586\n",
            "   macro avg       0.50      0.50      0.50     34586\n",
            "weighted avg       1.00      1.00      1.00     34586\n",
            "\n"
          ]
        },
        {
          "name": "stderr",
          "output_type": "stream",
          "text": [
            "/usr/local/lib/python3.11/dist-packages/sklearn/metrics/_classification.py:1565: UndefinedMetricWarning: Precision is ill-defined and being set to 0.0 in labels with no predicted samples. Use `zero_division` parameter to control this behavior.\n",
            "  _warn_prf(average, modifier, f\"{metric.capitalize()} is\", len(result))\n",
            "/usr/local/lib/python3.11/dist-packages/sklearn/metrics/_classification.py:1565: UndefinedMetricWarning: Precision is ill-defined and being set to 0.0 in labels with no predicted samples. Use `zero_division` parameter to control this behavior.\n",
            "  _warn_prf(average, modifier, f\"{metric.capitalize()} is\", len(result))\n",
            "/usr/local/lib/python3.11/dist-packages/sklearn/metrics/_classification.py:1565: UndefinedMetricWarning: Precision is ill-defined and being set to 0.0 in labels with no predicted samples. Use `zero_division` parameter to control this behavior.\n",
            "  _warn_prf(average, modifier, f\"{metric.capitalize()} is\", len(result))\n"
          ]
        }
      ],
      "source": [
        "# Separate features and target\n",
        "target_column = \"is_fraud\"\n",
        "X = df.drop(columns=[target_column])  # Features\n",
        "y = df[target_column]  # Target variable\n",
        "\n",
        "# Split into training and testing sets\n",
        "X_train, X_test, y_train, y_test = train_test_split(X, y, test_size=0.2, random_state=42)\n",
        "\n",
        "# Initialize XGBoost classifier\n",
        "model = xgb.XGBClassifier(\n",
        "    objective='binary:logistic',\n",
        "    eval_metric='logloss',\n",
        "    use_label_encoder=False\n",
        ")\n",
        "\n",
        "# Train the model\n",
        "model.fit(X_train, y_train)\n",
        "\n",
        "# Make predictions\n",
        "y_pred = model.predict(X_test)\n",
        "\n",
        "# Evaluate performance\n",
        "accuracy = accuracy_score(y_test, y_pred)\n",
        "print(f\"✅ Model Accuracy: {accuracy:.4f}\")\n",
        "print(classification_report(y_test, y_pred))\n"
      ]
    },
    {
      "cell_type": "code",
      "execution_count": null,
      "metadata": {
        "colab": {
          "base_uri": "https://localhost:8080/"
        },
        "id": "2KNpAfU8Ir1V",
        "outputId": "963ae268-6edd-41c6-c7dd-fce3325881db"
      },
      "outputs": [
        {
          "name": "stdout",
          "output_type": "stream",
          "text": [
            "🚀 Fraud Prediction: Not Fraud\n",
            "🔢 Fraud Probability: 0.0002\n"
          ]
        }
      ],
      "source": [
        "import numpy as np\n",
        "\n",
        "# Example transaction (replace with real feature values)\n",
        "sample_transaction = np.array([[500.0, 1657987200, 1, 2, 3, 1, 0, 4, 5, 1000001, 2000001]])\n",
        "\n",
        "# Make prediction\n",
        "prediction = model.predict(sample_transaction)[0]\n",
        "fraud_prob = model.predict_proba(sample_transaction)[0][1]  # Probability of fraud\n",
        "\n",
        "print(f\"🚀 Fraud Prediction: {'Fraud' if prediction else 'Not Fraud'}\")\n",
        "print(f\"🔢 Fraud Probability: {fraud_prob:.4f}\")\n"
      ]
    },
    {
      "cell_type": "code",
      "execution_count": null,
      "metadata": {
        "colab": {
          "base_uri": "https://localhost:8080/"
        },
        "id": "c35nUzbtJTYk",
        "outputId": "1ac861e2-11d0-437c-a752-2d51000f054b"
      },
      "outputs": [
        {
          "name": "stdout",
          "output_type": "stream",
          "text": [
            "🚀 Training Accuracy: 1.0000\n",
            "📉 Test Accuracy: 0.9999\n",
            "✅ No overfitting detected.\n"
          ]
        }
      ],
      "source": [
        "# Get training and test accuracy\n",
        "train_accuracy = model.score(X_train, y_train)\n",
        "test_accuracy = model.score(X_test, y_test)\n",
        "\n",
        "print(f\"🚀 Training Accuracy: {train_accuracy:.4f}\")\n",
        "print(f\"📉 Test Accuracy: {test_accuracy:.4f}\")\n",
        "\n",
        "# Check for overfitting\n",
        "if train_accuracy > test_accuracy + 0.10:  # 10% or more difference\n",
        "    print(\"⚠️ Overfitting detected!\")\n",
        "else:\n",
        "    print(\"✅ No overfitting detected.\")\n"
      ]
    }
  ],
  "metadata": {
    "colab": {
      "provenance": []
    },
    "kernelspec": {
      "display_name": "Python 3",
      "name": "python3"
    },
    "language_info": {
      "name": "python"
    }
  },
  "nbformat": 4,
  "nbformat_minor": 0
}
